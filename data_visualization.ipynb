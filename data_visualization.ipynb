{
 "nbformat": 4,
 "nbformat_minor": 0,
 "metadata": {
  "colab": {
   "provenance": []
  },
  "kernelspec": {
   "name": "python3",
   "display_name": "Python 3"
  },
  "language_info": {
   "name": "python"
  }
 },
 "cells": [
  {
   "cell_type": "code",
   "execution_count": null,
   "metadata": {
    "id": "uIgxqm09zYQl"
   },
   "outputs": [],
   "source": [
    "# See through the cifar-10 dataset and display some image\n",
    "import numpy as np\n",
    "import pandas as pd\n",
    "import matplotlib.pyplot as plt\n",
    "\n",
    "import torch\n",
    "import torch.nn as nn\n",
    "import torch.nn.functional as F\n",
    "from torchvision import datasets\n",
    "import torchvision.transforms as transforms\n",
    "import torchvision\n",
    "\n",
    "import gc\n",
    "\n",
    "import os\n",
    "import sys"
   ]
  },
  {
   "cell_type": "code",
   "source": [
    "from google.colab import drive\n",
    "\n",
    "drive.mount(\"/content/drive\")"
   ],
   "metadata": {
    "colab": {
     "base_uri": "https://localhost:8080/"
    },
    "id": "b0xfBdxM0F8m",
    "outputId": "306b1288-4c3b-470d-99f1-b3e28d83fc6a"
   },
   "execution_count": null,
   "outputs": [
    {
     "output_type": "stream",
     "name": "stdout",
     "text": [
      "Drive already mounted at /content/drive; to attempt to forcibly remount, call drive.mount(\"/content/drive\", force_remount=True).\n"
     ]
    }
   ]
  },
  {
   "cell_type": "code",
   "source": [
    "drive_path = \"/content/drive/My Drive/CIFAR10\"\n",
    "os.makedirs(drive_path, exist_ok=True)"
   ],
   "metadata": {
    "id": "qqwschPF0T0E"
   },
   "execution_count": null,
   "outputs": []
  },
  {
   "cell_type": "code",
   "source": [
    "# Download CIFAR-10 dataset\n",
    "transform = transforms.Compose([transforms.ToTensor()])\n",
    "train_dataset = torchvision.datasets.CIFAR10(\n",
    "    root=drive_path, train=True, download=True, transform=transform\n",
    ")\n",
    "test_dataset = torchvision.datasets.CIFAR10(\n",
    "    root=drive_path, train=False, download=True, transform=transform\n",
    ")"
   ],
   "metadata": {
    "colab": {
     "base_uri": "https://localhost:8080/"
    },
    "id": "sztraQJO0zw4",
    "outputId": "c0346aed-4292-4052-cd24-931b6a7077fb"
   },
   "execution_count": null,
   "outputs": [
    {
     "output_type": "stream",
     "name": "stdout",
     "text": [
      "Downloading https://www.cs.toronto.edu/~kriz/cifar-10-python.tar.gz to /content/drive/My Drive/CIFAR10/cifar-10-python.tar.gz\n"
     ]
    },
    {
     "output_type": "stream",
     "name": "stderr",
     "text": [
      "100%|██████████| 170M/170M [00:03<00:00, 43.5MB/s]\n"
     ]
    },
    {
     "output_type": "stream",
     "name": "stdout",
     "text": [
      "Extracting /content/drive/My Drive/CIFAR10/cifar-10-python.tar.gz to /content/drive/My Drive/CIFAR10\n",
      "Files already downloaded and verified\n"
     ]
    }
   ]
  },
  {
   "cell_type": "code",
   "source": [
    "len(train_dataset), len(test_dataset)  # 50000 train and 10000 test data"
   ],
   "metadata": {
    "colab": {
     "base_uri": "https://localhost:8080/"
    },
    "id": "oXTUjFp71zn8",
    "outputId": "88af5e5d-4438-4ac8-8469-c86de9a5ded9"
   },
   "execution_count": null,
   "outputs": [
    {
     "output_type": "execute_result",
     "data": {
      "text/plain": [
       "(50000, 10000)"
      ]
     },
     "metadata": {},
     "execution_count": 13
    }
   ]
  },
  {
   "cell_type": "code",
   "source": [
    "# Access one instance from the train_dataset\n",
    "image, label = train_dataset[\n",
    "    10\n",
    "]  # Replace 0 with any index to view a different instance\n",
    "\n",
    "# Convert the image tensor to a NumPy array for visualization\n",
    "image = np.transpose(\n",
    "    image.numpy(), (1, 2, 0)\n",
    ")  # Rearrange dimensions from (C, H, W) to (H, W, C)\n",
    "\n",
    "# CIFAR-10 class names\n",
    "classes = (\n",
    "    \"airplane\",\n",
    "    \"automobile\",\n",
    "    \"bird\",\n",
    "    \"cat\",\n",
    "    \"deer\",\n",
    "    \"dog\",\n",
    "    \"frog\",\n",
    "    \"horse\",\n",
    "    \"ship\",\n",
    "    \"truck\",\n",
    ")\n",
    "\n",
    "# Display the image with its label\n",
    "plt.imshow(image)\n",
    "plt.title(f\"Label: {classes[label]}\")  # Map the label to its class name\n",
    "plt.axis(\"off\")\n",
    "plt.show()"
   ],
   "metadata": {
    "colab": {
     "base_uri": "https://localhost:8080/",
     "height": 428
    },
    "id": "c8rBdja819nP",
    "outputId": "dba8983c-3271-4e86-c66b-3ba772e6016f"
   },
   "execution_count": null,
   "outputs": [
    {
     "output_type": "display_data",
     "data": {
      "text/plain": [
       "<Figure size 640x480 with 1 Axes>"
      ],
      "image/png": "[encoded data removed]"
     },
     "metadata": {}
    }
   ]
  },
  {
   "cell_type": "code",
   "source": [
    "# Convert train and test datasets to tensors\n",
    "train_images_tensor = torch.stack(\n",
    "    [train_dataset[i][0] for i in range(len(train_dataset))]\n",
    ")\n",
    "train_labels_tensor = torch.tensor(\n",
    "    [train_dataset[i][1] for i in range(len(train_dataset))]\n",
    ")\n",
    "\n",
    "test_images_tensor = torch.stack([test_dataset[i][0] for i in range(len(test_dataset))])\n",
    "test_labels_tensor = torch.tensor(\n",
    "    [test_dataset[i][1] for i in range(len(test_dataset))]\n",
    ")\n",
    "\n",
    "print(f\"Train images tensor shape: {train_images_tensor.shape}\")\n",
    "print(f\"Train labels tensor shape: {train_labels_tensor.shape}\")\n",
    "print(f\"Test images tensor shape: {test_images_tensor.shape}\")\n",
    "print(f\"Test labels tensor shape: {test_labels_tensor.shape}\")\n",
    "\n",
    "# Convert tensors to NumPy arrays\n",
    "train_images_numpy = train_images_tensor.numpy()\n",
    "train_labels_numpy = train_labels_tensor.numpy()\n",
    "\n",
    "test_images_numpy = test_images_tensor.numpy()\n",
    "test_labels_numpy = test_labels_tensor.numpy()\n",
    "\n",
    "print(f\"Train images NumPy shape: {train_images_numpy.shape}\")\n",
    "print(f\"Train labels NumPy shape: {train_labels_numpy.shape}\")\n",
    "print(f\"Test images NumPy shape: {test_images_numpy.shape}\")\n",
    "print(f\"Test labels NumPy shape: {test_labels_numpy.shape}\")\n",
    "\n",
    "\n",
    "# Clear tensors from memory\n",
    "del train_images_tensor\n",
    "del train_labels_tensor\n",
    "del test_images_tensor\n",
    "del test_labels_tensor\n",
    "\n",
    "# Force garbage collection to free up memory\n",
    "gc.collect()"
   ],
   "metadata": {
    "colab": {
     "base_uri": "https://localhost:8080/"
    },
    "id": "oMBLrneX4axc",
    "outputId": "e40d9cc5-dc3f-4062-caa4-8d81802ff8e4"
   },
   "execution_count": null,
   "outputs": [
    {
     "output_type": "stream",
     "name": "stdout",
     "text": [
      "Train images tensor shape: torch.Size([50000, 3, 32, 32])\n",
      "Train labels tensor shape: torch.Size([50000])\n",
      "Test images tensor shape: torch.Size([10000, 3, 32, 32])\n",
      "Test labels tensor shape: torch.Size([10000])\n",
      "Train images NumPy shape: (50000, 3, 32, 32)\n",
      "Train labels NumPy shape: (50000,)\n",
      "Test images NumPy shape: (10000, 3, 32, 32)\n",
      "Test labels NumPy shape: (10000,)\n"
     ]
    },
    {
     "output_type": "execute_result",
     "data": {
      "text/plain": [
       "8"
      ]
     },
     "metadata": {},
     "execution_count": 30
    }
   ]
  },
  {
   "cell_type": "code",
   "source": [
    "train_images_numpy[0].shape"
   ],
   "metadata": {
    "colab": {
     "base_uri": "https://localhost:8080/"
    },
    "id": "xd_vPotM6AcM",
    "outputId": "334c4338-cf94-4bda-ad3c-d5dac478c3bc"
   },
   "execution_count": null,
   "outputs": [
    {
     "output_type": "execute_result",
     "data": {
      "text/plain": [
       "(3, 32, 32)"
      ]
     },
     "metadata": {},
     "execution_count": 33
    }
   ]
  },
  {
   "cell_type": "code",
   "source": [
    "train_images_numpy[0].min(), train_images_numpy[0].max()"
   ],
   "metadata": {
    "colab": {
     "base_uri": "https://localhost:8080/"
    },
    "id": "9lKdaFFl6EmD",
    "outputId": "5d4abe45-a7b0-4f19-9643-225637e0c058"
   },
   "execution_count": null,
   "outputs": [
    {
     "output_type": "execute_result",
     "data": {
      "text/plain": [
       "(0.0, 1.0)"
      ]
     },
     "metadata": {},
     "execution_count": 37
    }
   ]
  },
  {
   "cell_type": "code",
   "source": [
    "## MMP's code below\n",
    "\n",
    "import numpy as np\n",
    "import scipy.signal as signal\n",
    "\n",
    "\n",
    "class cnn:\n",
    "    def __init__(self, input_size, num_kernels, kernel_size):\n",
    "        self.input_size = input_size\n",
    "        self.kernel_size = kernel_size\n",
    "        self.num_kernels = num_kernels\n",
    "\n",
    "    def __repr__(self):\n",
    "        return (\n",
    "            f\"cnn(num_input={self.num_input}, num_output={self.num_output}, \"\n",
    "            f\"kernel_size={self.kernel_size}, stride={self.stride}, padding={self.padding})\"\n",
    "        )\n",
    "\n",
    "    def generate_cnn_patches(self, image, stride, padding):\n",
    "        num_channel, image_h, image_w = image.shape\n",
    "\n",
    "        # Determine kernel size\n",
    "        if isinstance(self.kernel_size, int):\n",
    "            kernel_h = kernel_w = self.kernel_size\n",
    "\n",
    "        elif isinstance(self.kernel_size, tuple):\n",
    "            kernel_h, kernel_w = self.kernel_size\n",
    "\n",
    "        # Add padding if necessary\n",
    "        if padding > 0:\n",
    "            padded_image = np.pad(\n",
    "                image,\n",
    "                pad_width=((0, 0), (padding, padding), (padding, padding)),\n",
    "                mode=\"constant\",\n",
    "                constant_values=0,\n",
    "            )\n",
    "        else:\n",
    "            padded_image = image\n",
    "\n",
    "        # Initialize storage for patches\n",
    "        patches = []\n",
    "\n",
    "        for channel in range(num_channel):\n",
    "            channel_patch = []\n",
    "\n",
    "            for i in range(0, image_h - kernel_h + 1, stride):\n",
    "\n",
    "                for j in range(0, image_w - kernel_w + 1, stride):\n",
    "                    patch = padded_image[channel, i : i + kernel_h, j : j + kernel_w]\n",
    "                    channel_patch.append(patch)\n",
    "\n",
    "            channel_patch = np.array(channel_patch)\n",
    "            patches.append(channel_patch)\n",
    "\n",
    "        patches = np.array(patches)\n",
    "\n",
    "        return patches\n",
    "\n",
    "    def convolute(self, patch, kernel):\n",
    "        conv_mat = signal.correlate2d(patch, kernel, mode=\"valid\")\n",
    "\n",
    "        return conv_mat\n",
    "\n",
    "    def convolve(self, img, stride, padding):\n",
    "\n",
    "        patches = self.generate_cnn_patches(img, stride, padding)\n",
    "        num_channels, input_h, input_w = (\n",
    "            img.shape\n",
    "        )  ##need to indexing value for right shape\n",
    "\n",
    "        self.output_shape = (\n",
    "            self.num_kernels,\n",
    "            input_h - self.kernel_size + 1,\n",
    "            input_w - self.kernel_size + 1,\n",
    "        )\n",
    "        self.kernels_shape = (\n",
    "            self.num_kernels,\n",
    "            num_channels,\n",
    "            self.kernel_size,\n",
    "            self.kernel_size,\n",
    "        )\n",
    "        self.kernels = np.random.rand(*self.kernels_shape)\n",
    "        self.biases = np.random.rand(*self.output_shape)\n",
    "        self.output = np.zeros(\n",
    "            (\n",
    "                self.num_kernels,\n",
    "                input_h - self.kernel_size + 1,\n",
    "                input_w - self.kernel_size + 1,\n",
    "            )\n",
    "        )\n",
    "\n",
    "        print(\"kernels = \", self.kernels)\n",
    "\n",
    "        for i in range(self.num_kernels):\n",
    "            y = 0\n",
    "            for kernel in self.kernels[i]:\n",
    "                l = 0\n",
    "                k = 0\n",
    "                for patch in patches[y]:\n",
    "                    self.output[i][k][l] += self.convolute(patch, kernel)\n",
    "                    l += 1\n",
    "\n",
    "                    if l >= input_w - self.kernel_size + 1:\n",
    "                        l = 0\n",
    "                        k += 1\n",
    "                y += 1\n",
    "\n",
    "        return self.output\n",
    "\n",
    "    # def max_pooling(self, convolved_img, stride)\n",
    "\n",
    "    # def generate_cnn_patches(self, image):\n",
    "    #     num_channel, image_h, image_w = image.shape\n",
    "\n",
    "    #     if isinstance(self.kernel_size, int):\n",
    "    #         kernel_h = kernel_w = self.kernel_size\n",
    "    #     elif isinstance(self.kernel_size, tuple):\n",
    "    #         kernel_h, kernel_w = self.kernel_size\n",
    "\n",
    "    #     if self.padding > 0:\n",
    "    #         image = np.pad(image, pad_width=((self.padding, self.padding), (self.padding, self.padding) (0,0)), mode='constant', constant_values=0)\n",
    "\n",
    "    #     output_height = (image_h -  kernel_h) // self.stride + 1\n",
    "    #     output_width = (image_w - kernel_w) // self.stride + 1\n",
    "\n",
    "    #     patches = []\n",
    "\n",
    "    #     for i in range(0, output_height - kernel_h + 1, self.stride):\n",
    "    #         for j in range(0, output_width - kernel_w + 1, self.stride):\n",
    "    #             patch = image[i:i+kernel_h, j:kernel_w, :]\n",
    "    #             patches.append(patch)\n",
    "\n",
    "    #     return patches"
   ],
   "metadata": {
    "id": "YBBhE6GB9Glu"
   },
   "execution_count": null,
   "outputs": []
  }
 ]
}