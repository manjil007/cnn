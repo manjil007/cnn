{
 "cells": [
  {
   "cell_type": "code",
   "execution_count": 1,
   "metadata": {
    "id": "uIgxqm09zYQl"
   },
   "outputs": [],
   "source": [
    "# See through the cifar-10 dataset and display some image\n",
    "import numpy as np\n",
    "import pandas as pd\n",
    "import matplotlib.pyplot as plt\n",
    "\n",
    "import torch\n",
    "import torch.nn as nn\n",
    "import torch.nn.functional as F\n",
    "from torchvision import datasets\n",
    "import torchvision.transforms as transforms\n",
    "import torchvision\n",
    "\n",
    "import gc\n",
    "\n",
    "import os\n",
    "import sys\n",
    "\n",
    "from CNN_model import cnn"
   ]
  },
  {
   "cell_type": "code",
   "execution_count": 2,
   "metadata": {
    "colab": {
     "base_uri": "https://localhost:8080/"
    },
    "id": "sztraQJO0zw4",
    "outputId": "c0346aed-4292-4052-cd24-931b6a7077fb"
   },
   "outputs": [],
   "source": [
    "# Download CIFAR-10 dataset\n",
    "transform = transforms.Compose([transforms.ToTensor()])\n",
    "train_dataset = torchvision.datasets.CIFAR10(\n",
    "    root=\"data\", train=True, download=False, transform=transform\n",
    ")\n",
    "test_dataset = torchvision.datasets.CIFAR10(\n",
    "    root=\"data\", train=False, download=False, transform=transform\n",
    ")"
   ]
  },
  {
   "cell_type": "code",
   "execution_count": 3,
   "metadata": {
    "colab": {
     "base_uri": "https://localhost:8080/"
    },
    "id": "oXTUjFp71zn8",
    "outputId": "88af5e5d-4438-4ac8-8469-c86de9a5ded9"
   },
   "outputs": [
    {
     "data": {
      "text/plain": [
       "(50000, 10000)"
      ]
     },
     "execution_count": 3,
     "metadata": {},
     "output_type": "execute_result"
    }
   ],
   "source": [
    "len(train_dataset), len(test_dataset)  # 50000 train and 10000 test data"
   ]
  },
  {
   "cell_type": "code",
   "execution_count": 4,
   "metadata": {
    "colab": {
     "base_uri": "https://localhost:8080/",
     "height": 428
    },
    "id": "c8rBdja819nP",
    "outputId": "dba8983c-3271-4e86-c66b-3ba772e6016f"
   },
   "outputs": [
    {
     "data": {
      "image/png": "[encoded data removed]",
      "text/plain": [
       "<Figure size 640x480 with 1 Axes>"
      ]
     },
     "metadata": {},
     "output_type": "display_data"
    }
   ],
   "source": [
    "# Access one instance from the train_dataset\n",
    "image, label = train_dataset[\n",
    "    10\n",
    "]  # Replace 0 with any index to view a different instance\n",
    "\n",
    "# Convert the image tensor to a NumPy array for visualization\n",
    "image = np.transpose(\n",
    "    image.numpy(), (1, 2, 0)\n",
    ")  # Rearrange dimensions from (C, H, W) to (H, W, C)\n",
    "\n",
    "# CIFAR-10 class names\n",
    "classes = (\n",
    "    \"airplane\",\n",
    "    \"automobile\",\n",
    "    \"bird\",\n",
    "    \"cat\",\n",
    "    \"deer\",\n",
    "    \"dog\",\n",
    "    \"frog\",\n",
    "    \"horse\",\n",
    "    \"ship\",\n",
    "    \"truck\",\n",
    ")\n",
    "\n",
    "# Display the image with its label\n",
    "plt.imshow(image)\n",
    "plt.title(f\"Label: {classes[label]}\")  # Map the label to its class name\n",
    "plt.axis(\"off\")\n",
    "plt.show()"
   ]
  },
  {
   "cell_type": "code",
   "execution_count": 5,
   "metadata": {
    "colab": {
     "base_uri": "https://localhost:8080/"
    },
    "id": "oMBLrneX4axc",
    "outputId": "e40d9cc5-dc3f-4062-caa4-8d81802ff8e4"
   },
   "outputs": [
    {
     "name": "stdout",
     "output_type": "stream",
     "text": [
      "Train images tensor shape: torch.Size([50000, 3, 32, 32])\n",
      "Train labels tensor shape: torch.Size([50000])\n",
      "Test images tensor shape: torch.Size([10000, 3, 32, 32])\n",
      "Test labels tensor shape: torch.Size([10000])\n",
      "Train images NumPy shape: (10, 3, 32, 32)\n",
      "Train labels NumPy shape: (50000,)\n",
      "Test images NumPy shape: (10000, 3, 32, 32)\n",
      "Test labels NumPy shape: (10000,)\n"
     ]
    },
    {
     "data": {
      "text/plain": [
       "2428"
      ]
     },
     "execution_count": 5,
     "metadata": {},
     "output_type": "execute_result"
    }
   ],
   "source": [
    "# Convert train and test datasets to tensors\n",
    "train_images_tensor = torch.stack(\n",
    "    [train_dataset[i][0] for i in range(len(train_dataset))]\n",
    ")\n",
    "train_labels_tensor = torch.tensor(\n",
    "    [train_dataset[i][1] for i in range(len(train_dataset))]\n",
    ")\n",
    "\n",
    "test_images_tensor = torch.stack([test_dataset[i][0] for i in range(len(test_dataset))])\n",
    "test_labels_tensor = torch.tensor(\n",
    "    [test_dataset[i][1] for i in range(len(test_dataset))]\n",
    ")\n",
    "\n",
    "print(f\"Train images tensor shape: {train_images_tensor.shape}\")\n",
    "print(f\"Train labels tensor shape: {train_labels_tensor.shape}\")\n",
    "print(f\"Test images tensor shape: {test_images_tensor.shape}\")\n",
    "print(f\"Test labels tensor shape: {test_labels_tensor.shape}\")\n",
    "\n",
    "# Convert tensors to NumPy arrays\n",
    "train_images_numpy = train_images_tensor.numpy()\n",
    "train_labels_numpy = train_labels_tensor.numpy()\n",
    "\n",
    "test_images_numpy = test_images_tensor.numpy()\n",
    "test_labels_numpy = test_labels_tensor.numpy()\n",
    "\n",
    "train_images_numpy = train_images_numpy[:10]\n",
    "\n",
    "print(f\"Train images NumPy shape: {train_images_numpy.shape}\")\n",
    "print(f\"Train labels NumPy shape: {train_labels_numpy.shape}\")\n",
    "print(f\"Test images NumPy shape: {test_images_numpy.shape}\")\n",
    "print(f\"Test labels NumPy shape: {test_labels_numpy.shape}\")\n",
    "\n",
    "\n",
    "# Clear tensors from memory\n",
    "del train_images_tensor\n",
    "del train_labels_tensor\n",
    "del test_images_tensor\n",
    "del test_labels_tensor\n",
    "\n",
    "# Force garbage collection to free up memory\n",
    "gc.collect()"
   ]
  },
  {
   "cell_type": "code",
   "execution_count": 6,
   "metadata": {},
   "outputs": [],
   "source": [
    "in_channel = 3\n",
    "out_channel = 3\n",
    "kernel_size = 2\n",
    "stride = 1\n",
    "padding = 0\n",
    "\n",
    "model = cnn(in_channel, out_channel, kernel_size, stride, padding)"
   ]
  },
  {
   "cell_type": "code",
   "execution_count": 7,
   "metadata": {},
   "outputs": [],
   "source": [
    "output = model.forward(train_images_numpy)"
   ]
  },
  {
   "cell_type": "code",
   "execution_count": 8,
   "metadata": {},
   "outputs": [
    {
     "data": {
      "text/plain": [
       "(10, 3, 31, 31)"
      ]
     },
     "execution_count": 8,
     "metadata": {},
     "output_type": "execute_result"
    }
   ],
   "source": [
    "output.shape"
   ]
  },
  {
   "cell_type": "code",
   "execution_count": 9,
   "metadata": {},
   "outputs": [
    {
     "data": {
      "text/plain": [
       "array([[[[3.20821371e-01, 2.51273870e-01, 2.56719204e-01, ...,\n",
       "          7.37749800e-01, 7.20509440e-01, 7.15327376e-01],\n",
       "         [7.02509841e-02, 1.40350489e-02, 6.78056637e-02, ...,\n",
       "          4.51084197e-01, 4.17717401e-01, 4.09088553e-01],\n",
       "         [7.77392553e-02, 6.89050770e-02, 1.52300938e-01, ...,\n",
       "          4.26357686e-01, 3.99808164e-01, 3.53160338e-01],\n",
       "         ...,\n",
       "         [4.41811538e-01, 1.97364068e-01, 2.11378042e-01, ...,\n",
       "          6.87364926e-01, 3.30478277e-01, 9.06905661e-02],\n",
       "         [5.04201365e-01, 2.49420484e-01, 2.13209293e-01, ...,\n",
       "          5.70117512e-01, 3.37681991e-01, 1.56879590e-01],\n",
       "         [6.30112120e-01, 4.15100594e-01, 3.27087846e-01, ...,\n",
       "          7.38397205e-01, 5.98628015e-01, 3.71038855e-01]],\n",
       "\n",
       "        [[3.92282982e-01, 2.61238904e-01, 2.54610900e-01, ...,\n",
       "          8.64758906e-01, 8.38191234e-01, 8.07634274e-01],\n",
       "         [1.34316516e-01, 2.18790163e-03, 6.00981405e-02, ...,\n",
       "          5.67035928e-01, 5.08058758e-01, 5.12971067e-01],\n",
       "         [1.23650241e-01, 4.60106186e-02, 1.92666841e-01, ...,\n",
       "          5.16681568e-01, 4.93140432e-01, 4.57728919e-01],\n",
       "         ...,\n",
       "         [6.89567155e-01, 2.68354637e-01, 2.57377130e-01, ...,\n",
       "          7.87200921e-01, 5.35685928e-01, 8.45548511e-02],\n",
       "         [7.42934802e-01, 3.39343557e-01, 2.74145825e-01, ...,\n",
       "          6.21421261e-01, 5.75879745e-01, 2.15159021e-01],\n",
       "         [8.54867565e-01, 5.80444436e-01, 4.99536240e-01, ...,\n",
       "          8.70951001e-01, 9.09652224e-01, 5.29031190e-01]],\n",
       "\n",
       "        [[2.43287741e-01, 1.92978461e-01, 2.05922147e-01, ...,\n",
       "          6.01794362e-01, 5.88133279e-01, 5.91895328e-01],\n",
       "         [5.17275820e-02, 1.98393277e-02, 7.22655867e-02, ...,\n",
       "          3.80373098e-01, 3.58055053e-01, 3.38505986e-01],\n",
       "         [6.39394925e-02, 7.69924419e-02, 1.33535038e-01, ...,\n",
       "          3.65630721e-01, 3.40469109e-01, 2.93352149e-01],\n",
       "         ...,\n",
       "         [3.60298162e-01, 1.66297718e-01, 1.80742911e-01, ...,\n",
       "          5.85092656e-01, 2.57737647e-01, 8.93397977e-02],\n",
       "         [4.14905955e-01, 2.10676401e-01, 1.79221305e-01, ...,\n",
       "          5.17109099e-01, 2.79474057e-01, 1.40877921e-01],\n",
       "         [5.59788028e-01, 3.82642863e-01, 2.93108185e-01, ...,\n",
       "          6.70631743e-01, 5.16574715e-01, 3.32040694e-01]]],\n",
       "\n",
       "\n",
       "       [[[1.29536290e+00, 9.60274729e-01, 8.56386121e-01, ...,\n",
       "          6.27852987e-01, 5.61136977e-01, 5.46915676e-01],\n",
       "         [1.28266905e+00, 1.06365754e+00, 1.05975691e+00, ...,\n",
       "          6.08566264e-01, 5.35118521e-01, 4.80786430e-01],\n",
       "         [1.24343677e+00, 1.04626233e+00, 1.08920693e+00, ...,\n",
       "          5.51540754e-01, 4.71481755e-01, 4.49461465e-01],\n",
       "         ...,\n",
       "         [1.27159201e+00, 1.20589054e+00, 1.11090655e+00, ...,\n",
       "          3.92793318e-01, 5.70167199e-01, 6.70204214e-01],\n",
       "         [1.23598854e+00, 1.26926047e+00, 1.25916706e+00, ...,\n",
       "          3.54575432e-01, 5.33316448e-01, 7.23756594e-01],\n",
       "         [1.02280542e+00, 1.08302279e+00, 1.06773169e+00, ...,\n",
       "          8.07658194e-01, 9.48879132e-01, 1.05444198e+00]],\n",
       "\n",
       "        [[1.61507494e+00, 1.27800023e+00, 1.04454294e+00, ...,\n",
       "          7.73243680e-01, 7.24185118e-01, 6.62306268e-01],\n",
       "         [1.59889010e+00, 1.38035246e+00, 1.19730667e+00, ...,\n",
       "          7.61096214e-01, 6.63563557e-01, 5.81580230e-01],\n",
       "         [1.53543384e+00, 1.33906243e+00, 1.29033778e+00, ...,\n",
       "          6.85488623e-01, 6.01305240e-01, 5.36832848e-01],\n",
       "         ...,\n",
       "         [1.57721255e+00, 1.47365421e+00, 1.41709959e+00, ...,\n",
       "          4.02078880e-01, 6.12655705e-01, 7.31583098e-01],\n",
       "         [1.47176476e+00, 1.49579190e+00, 1.54286421e+00, ...,\n",
       "          4.43999353e-01, 6.62360037e-01, 9.17825496e-01],\n",
       "         [1.23906460e+00, 1.29194715e+00, 1.31848486e+00, ...,\n",
       "          1.03987657e+00, 1.19139789e+00, 1.30564427e+00]],\n",
       "\n",
       "        [[1.11491364e+00, 8.20323594e-01, 7.56792284e-01, ...,\n",
       "          5.41220610e-01, 4.68597568e-01, 4.63340551e-01],\n",
       "         [1.08998236e+00, 8.93046394e-01, 9.42372143e-01, ...,\n",
       "          5.09026052e-01, 4.51492530e-01, 4.08719565e-01],\n",
       "         [1.06016632e+00, 8.91493614e-01, 9.27966981e-01, ...,\n",
       "          4.70275975e-01, 3.98263210e-01, 3.89775006e-01],\n",
       "         ...,\n",
       "         [1.09096053e+00, 1.05830452e+00, 9.70725926e-01, ...,\n",
       "          3.18320325e-01, 4.90270026e-01, 5.86781959e-01],\n",
       "         [1.04426269e+00, 1.07743879e+00, 1.05327481e+00, ...,\n",
       "          3.44103918e-01, 4.99265526e-01, 6.43708819e-01],\n",
       "         [8.72643051e-01, 9.27231426e-01, 9.10657485e-01, ...,\n",
       "          7.14109600e-01, 8.24088903e-01, 9.10125979e-01]]],\n",
       "\n",
       "\n",
       "       [[[2.05125724e+00, 2.04549705e+00, 2.04549705e+00, ...,\n",
       "          2.04549705e+00, 2.04549705e+00, 2.04549705e+00],\n",
       "         [2.05516191e+00, 2.05455957e+00, 2.05455957e+00, ...,\n",
       "          2.05455957e+00, 2.05455957e+00, 2.05455957e+00],\n",
       "         [2.05408676e+00, 2.05120667e+00, 2.05120667e+00, ...,\n",
       "          2.05120667e+00, 2.05120667e+00, 2.05120667e+00],\n",
       "         ...,\n",
       "         [8.93085811e-01, 8.92250714e-01, 8.65062166e-01, ...,\n",
       "          6.39967080e-01, 6.52091858e-01, 6.65687715e-01],\n",
       "         [8.85360660e-01, 8.54192633e-01, 7.94922983e-01, ...,\n",
       "          6.20301373e-01, 6.29489305e-01, 6.40094550e-01],\n",
       "         [8.46255825e-01, 8.00764222e-01, 7.45082294e-01, ...,\n",
       "          6.24401035e-01, 6.18068958e-01, 6.45390203e-01]],\n",
       "\n",
       "        [[2.51167101e+00, 2.50592247e+00, 2.50592247e+00, ...,\n",
       "          2.50592247e+00, 2.50592247e+00, 2.50592247e+00],\n",
       "         [2.51753225e+00, 2.51387363e+00, 2.51387363e+00, ...,\n",
       "          2.51387363e+00, 2.51387363e+00, 2.51387363e+00],\n",
       "         [2.51473837e+00, 2.51186410e+00, 2.51186410e+00, ...,\n",
       "          2.51186410e+00, 2.51186410e+00, 2.51186410e+00],\n",
       "         ...,\n",
       "         [1.09677039e+00, 1.10075333e+00, 1.07041053e+00, ...,\n",
       "          7.72584197e-01, 7.98635381e-01, 8.10120490e-01],\n",
       "         [1.09328727e+00, 1.05148350e+00, 9.85092726e-01, ...,\n",
       "          7.69171125e-01, 7.59854696e-01, 7.66212087e-01],\n",
       "         [1.04613312e+00, 9.83778990e-01, 9.22651656e-01, ...,\n",
       "          7.59841606e-01, 7.66239483e-01, 7.93733071e-01]],\n",
       "\n",
       "        [[1.75799717e+00, 1.75294673e+00, 1.75294673e+00, ...,\n",
       "          1.75294673e+00, 1.75294673e+00, 1.75294673e+00],\n",
       "         [1.75920765e+00, 1.75914941e+00, 1.75914941e+00, ...,\n",
       "          1.75914941e+00, 1.75914941e+00, 1.75914941e+00],\n",
       "         [1.75984237e+00, 1.75731715e+00, 1.75731715e+00, ...,\n",
       "          1.75731715e+00, 1.75731715e+00, 1.75731715e+00],\n",
       "         ...,\n",
       "         [7.64385262e-01, 7.58143055e-01, 7.31357059e-01, ...,\n",
       "          5.49248089e-01, 5.56422013e-01, 5.66269776e-01],\n",
       "         [7.51959810e-01, 7.24979649e-01, 6.73078067e-01, ...,\n",
       "          5.25109526e-01, 5.38033832e-01, 5.52984507e-01],\n",
       "         [7.18822279e-01, 6.82272397e-01, 6.35401827e-01, ...,\n",
       "          5.42101001e-01, 5.33398255e-01, 5.53844988e-01]]],\n",
       "\n",
       "\n",
       "       ...,\n",
       "\n",
       "\n",
       "       [[[3.31641259e-01, 3.52828558e-01, 4.59072398e-01, ...,\n",
       "          4.67388491e-01, 5.15188302e-01, 5.21906880e-01],\n",
       "         [3.26190699e-01, 3.24511128e-01, 3.93795183e-01, ...,\n",
       "          8.56151152e-01, 9.03916363e-01, 9.11455174e-01],\n",
       "         [3.54551381e-01, 3.55410718e-01, 4.25824614e-01, ...,\n",
       "          1.15382861e+00, 1.16694751e+00, 1.16228465e+00],\n",
       "         ...,\n",
       "         [9.89066889e-01, 1.02158064e+00, 1.09507067e+00, ...,\n",
       "          8.34500530e-01, 8.47720541e-01, 8.78370478e-01],\n",
       "         [9.74740160e-01, 1.01198948e+00, 1.03362117e+00, ...,\n",
       "          9.52590251e-01, 9.40087597e-01, 9.25698560e-01],\n",
       "         [1.01377127e+00, 1.04292173e+00, 1.01431265e+00, ...,\n",
       "          9.45517025e-01, 9.13362250e-01, 8.84860570e-01]],\n",
       "\n",
       "        [[3.97301367e-01, 4.31303711e-01, 5.13669231e-01, ...,\n",
       "          5.97046543e-01, 6.74421363e-01, 6.93372337e-01],\n",
       "         [4.00406470e-01, 4.05732710e-01, 4.43008928e-01, ...,\n",
       "          1.08872064e+00, 1.15117369e+00, 1.16298854e+00],\n",
       "         [4.34040216e-01, 4.35850099e-01, 4.97518061e-01, ...,\n",
       "          1.42482597e+00, 1.43805909e+00, 1.43000177e+00],\n",
       "         ...,\n",
       "         [1.20324016e+00, 1.22507125e+00, 1.32417734e+00, ...,\n",
       "          1.03346528e+00, 1.06898643e+00, 1.07002250e+00],\n",
       "         [1.19006238e+00, 1.23732926e+00, 1.28823154e+00, ...,\n",
       "          1.18908930e+00, 1.15350446e+00, 1.15266822e+00],\n",
       "         [1.23602298e+00, 1.26938981e+00, 1.25341996e+00, ...,\n",
       "          1.18258239e+00, 1.09999241e+00, 1.07097440e+00]],\n",
       "\n",
       "        [[2.83562146e-01, 2.96938748e-01, 3.90206484e-01, ...,\n",
       "          4.32128788e-01, 4.67551593e-01, 4.74435258e-01],\n",
       "         [2.80694143e-01, 2.77197916e-01, 3.46134356e-01, ...,\n",
       "          7.58818841e-01, 7.96748210e-01, 8.02582233e-01],\n",
       "         [3.07117980e-01, 3.11663850e-01, 3.74675185e-01, ...,\n",
       "          9.90587887e-01, 1.00004112e+00, 9.95644828e-01],\n",
       "         ...,\n",
       "         [8.45320076e-01, 8.75310374e-01, 9.31348959e-01, ...,\n",
       "          7.24863771e-01, 7.28619146e-01, 7.59652388e-01],\n",
       "         [8.42840844e-01, 8.72138407e-01, 8.78372972e-01, ...,\n",
       "          8.12427685e-01, 8.09204496e-01, 7.84604983e-01],\n",
       "         [8.65831508e-01, 8.87741864e-01, 8.58962043e-01, ...,\n",
       "          7.92562540e-01, 7.71415917e-01, 7.49156359e-01]]],\n",
       "\n",
       "\n",
       "       [[[1.79507097e+00, 1.77836228e+00, 1.76558457e+00, ...,\n",
       "          1.79544057e+00, 1.79544057e+00, 1.80002448e+00],\n",
       "         [1.81783049e+00, 1.80450310e+00, 1.79318500e+00, ...,\n",
       "          1.80274871e+00, 1.80214638e+00, 1.80322152e+00],\n",
       "         [1.80688405e+00, 1.79643676e+00, 1.79643676e+00, ...,\n",
       "          1.79596395e+00, 1.79308386e+00, 1.78849995e+00],\n",
       "         ...,\n",
       "         [1.79663999e+00, 1.71913586e+00, 1.36624550e+00, ...,\n",
       "          1.05193260e+00, 1.09589636e+00, 1.09762441e+00],\n",
       "         [1.89105094e+00, 1.80941352e+00, 1.54385359e+00, ...,\n",
       "          1.07327372e+00, 1.10631942e+00, 1.10872671e+00],\n",
       "         [1.92526125e+00, 1.86176793e+00, 1.76791632e+00, ...,\n",
       "          1.07770177e+00, 1.11302522e+00, 1.12109156e+00]],\n",
       "\n",
       "        [[2.21121033e+00, 2.18181829e+00, 2.17497580e+00, ...,\n",
       "          2.19983630e+00, 2.19983630e+00, 2.20317715e+00],\n",
       "         [2.23026041e+00, 2.20778746e+00, 2.19551799e+00, ...,\n",
       "          2.20751397e+00, 2.20385535e+00, 2.20664922e+00],\n",
       "         [2.21751239e+00, 2.19791371e+00, 2.19791371e+00, ...,\n",
       "          2.19877846e+00, 2.19590419e+00, 2.19256333e+00],\n",
       "         ...,\n",
       "         [2.22630486e+00, 2.14616449e+00, 1.83247161e+00, ...,\n",
       "          1.27312791e+00, 1.34022901e+00, 1.34648842e+00],\n",
       "         [2.33594816e+00, 2.25670484e+00, 1.96579046e+00, ...,\n",
       "          1.29477224e+00, 1.35403487e+00, 1.35777389e+00],\n",
       "         [2.36441849e+00, 2.28067319e+00, 2.16361642e+00, ...,\n",
       "          1.29957565e+00, 1.35805392e+00, 1.36792767e+00]],\n",
       "\n",
       "        [[1.53784861e+00, 1.52634957e+00, 1.51137946e+00, ...,\n",
       "          1.53878080e+00, 1.53878080e+00, 1.54310591e+00],\n",
       "         [1.55525910e+00, 1.54498348e+00, 1.53760270e+00, ...,\n",
       "          1.54250356e+00, 1.54244532e+00, 1.54181060e+00],\n",
       "         [1.54582530e+00, 1.53807490e+00, 1.53807490e+00, ...,\n",
       "          1.53876786e+00, 1.53624264e+00, 1.53191753e+00],\n",
       "         ...,\n",
       "         [1.54191506e+00, 1.47407308e+00, 1.15309484e+00, ...,\n",
       "          9.04427689e-01, 9.39521443e-01, 9.39624994e-01],\n",
       "         [1.62288868e+00, 1.54873976e+00, 1.34244576e+00, ...,\n",
       "          9.23917092e-01, 9.48968181e-01, 9.52186368e-01],\n",
       "         [1.64134070e+00, 1.59503439e+00, 1.53379172e+00, ...,\n",
       "          9.25114632e-01, 9.52632699e-01, 9.59541277e-01]]],\n",
       "\n",
       "\n",
       "       [[[9.20968676e-01, 8.78908899e-01, 9.40752980e-01, ...,\n",
       "          1.70184270e+00, 1.70634445e+00, 1.71917894e+00],\n",
       "         [1.16864487e+00, 1.24473158e+00, 1.44635340e+00, ...,\n",
       "          1.39111494e+00, 1.47967829e+00, 1.55235113e+00],\n",
       "         [1.37927792e+00, 1.24162299e+00, 1.35140209e+00, ...,\n",
       "          6.41006204e-01, 7.83866849e-01, 9.03557232e-01],\n",
       "         ...,\n",
       "         [3.18975398e-01, 2.58768428e-01, 2.18594653e-01, ...,\n",
       "          4.69099715e-01, 4.78216957e-01, 4.91966585e-01],\n",
       "         [3.24458498e-01, 3.19979882e-01, 3.15079029e-01, ...,\n",
       "          5.65766261e-01, 5.75536410e-01, 5.81426130e-01],\n",
       "         [3.35459650e-01, 3.54577711e-01, 3.80610066e-01, ...,\n",
       "          6.35118858e-01, 6.47769101e-01, 6.61072252e-01]],\n",
       "\n",
       "        [[1.17008510e+00, 1.07119167e+00, 1.20082562e+00, ...,\n",
       "          2.04388112e+00, 2.07255231e+00, 2.08921392e+00],\n",
       "         [1.54396771e+00, 1.49807252e+00, 1.69642473e+00, ...,\n",
       "          1.53117991e+00, 1.67955632e+00, 1.78050912e+00],\n",
       "         [1.74096550e+00, 1.61231830e+00, 1.61913905e+00, ...,\n",
       "          6.91963007e-01, 8.65061885e-01, 9.87969004e-01],\n",
       "         ...,\n",
       "         [3.94109130e-01, 3.27681317e-01, 2.87745506e-01, ...,\n",
       "          5.87174133e-01, 5.94048935e-01, 6.15850237e-01],\n",
       "         [3.95030326e-01, 3.90420019e-01, 3.86481362e-01, ...,\n",
       "          7.01135754e-01, 7.11476085e-01, 7.21747995e-01],\n",
       "         [4.06701986e-01, 4.28054297e-01, 4.62665492e-01, ...,\n",
       "          7.79347925e-01, 7.92562526e-01, 8.09242655e-01]],\n",
       "\n",
       "        [[8.13817658e-01, 8.12628178e-01, 8.64127431e-01, ...,\n",
       "          1.45753520e+00, 1.46182169e+00, 1.47557411e+00],\n",
       "         [9.87790300e-01, 1.06253975e+00, 1.24780389e+00, ...,\n",
       "          1.15586488e+00, 1.23476722e+00, 1.30410608e+00],\n",
       "         [1.19675485e+00, 1.04598421e+00, 1.14842074e+00, ...,\n",
       "          5.11404258e-01, 6.23346220e-01, 7.21393111e-01],\n",
       "         ...,\n",
       "         [2.76156450e-01, 2.27815777e-01, 1.93415243e-01, ...,\n",
       "          4.08584561e-01, 4.16554758e-01, 4.25457390e-01],\n",
       "         [2.79503100e-01, 2.77625534e-01, 2.77120958e-01, ...,\n",
       "          4.90736309e-01, 4.99444777e-01, 5.05246430e-01],\n",
       "         [2.90704420e-01, 3.09494345e-01, 3.32771176e-01, ...,\n",
       "          5.46438330e-01, 5.57672020e-01, 5.69643981e-01]]]])"
      ]
     },
     "execution_count": 9,
     "metadata": {},
     "output_type": "execute_result"
    }
   ],
   "source": [
    "output"
   ]
  },
  {
   "cell_type": "code",
   "execution_count": 10,
   "metadata": {},
   "outputs": [
    {
     "data": {
      "text/plain": [
       "(10, 3, 31, 31)"
      ]
     },
     "execution_count": 10,
     "metadata": {},
     "output_type": "execute_result"
    }
   ],
   "source": [
    "output.shape"
   ]
  },
  {
   "cell_type": "code",
   "execution_count": 11,
   "metadata": {},
   "outputs": [],
   "source": [
    "dout = np.random.rand(10, 3, 31, 31)"
   ]
  },
  {
   "cell_type": "code",
   "execution_count": null,
   "metadata": {},
   "outputs": [],
   "source": [
    "weight_gradient = model.backward(dout)"
   ]
  }
 ],
 "metadata": {
  "colab": {
   "provenance": []
  },
  "kernelspec": {
   "display_name": "datamining_assignment1",
   "language": "python",
   "name": "python3"
  },
  "language_info": {
   "codemirror_mode": {
    "name": "ipython",
    "version": 3
   },
   "file_extension": ".py",
   "mimetype": "text/x-python",
   "name": "python",
   "nbconvert_exporter": "python",
   "pygments_lexer": "ipython3",
   "version": "3.11.9"
  }
 },
 "nbformat": 4,
 "nbformat_minor": 0
}
