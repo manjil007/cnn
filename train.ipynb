{
 "cells": [
  {
   "cell_type": "code",
   "execution_count": 1,
   "metadata": {
    "id": "uIgxqm09zYQl"
   },
   "outputs": [],
   "source": [
    "# See through the cifar-10 dataset and display some image\n",
    "import numpy as np\n",
    "import pandas as pd\n",
    "import matplotlib.pyplot as plt\n",
    "\n",
    "import torch\n",
    "import torch.nn as nn\n",
    "import torch.nn.functional as F\n",
    "from torchvision import datasets\n",
    "import torchvision.transforms as transforms\n",
    "import torchvision\n",
    "\n",
    "import gc\n",
    "\n",
    "import os\n",
    "import sys\n",
    "from LeNet import LeNet5\n",
    "from utils import cross_entropy_loss, one_hot_y"
   ]
  },
  {
   "cell_type": "code",
   "execution_count": 2,
   "metadata": {
    "colab": {
     "base_uri": "https://localhost:8080/"
    },
    "id": "sztraQJO0zw4",
    "outputId": "c0346aed-4292-4052-cd24-931b6a7077fb"
   },
   "outputs": [
    {
     "name": "stdout",
     "output_type": "stream",
     "text": [
      "Files already downloaded and verified\n",
      "Files already downloaded and verified\n"
     ]
    }
   ],
   "source": [
    "# Download CIFAR-10 dataset\n",
    "transform = transforms.Compose([transforms.ToTensor()])\n",
    "train_dataset = torchvision.datasets.CIFAR10(\n",
    "    root=\"data\", train=True, download=True, transform=transform\n",
    ")\n",
    "test_dataset = torchvision.datasets.CIFAR10(\n",
    "    root=\"data\", train=False, download=True, transform=transform\n",
    ")"
   ]
  },
  {
   "cell_type": "code",
   "execution_count": 3,
   "metadata": {
    "colab": {
     "base_uri": "https://localhost:8080/"
    },
    "id": "oXTUjFp71zn8",
    "outputId": "88af5e5d-4438-4ac8-8469-c86de9a5ded9"
   },
   "outputs": [
    {
     "data": {
      "text/plain": [
       "(50000, 10000)"
      ]
     },
     "execution_count": 3,
     "metadata": {},
     "output_type": "execute_result"
    }
   ],
   "source": [
    "len(train_dataset), len(test_dataset)  # 50000 train and 10000 test data"
   ]
  },
  {
   "cell_type": "code",
   "execution_count": 4,
   "metadata": {
    "colab": {
     "base_uri": "https://localhost:8080/",
     "height": 428
    },
    "id": "c8rBdja819nP",
    "outputId": "dba8983c-3271-4e86-c66b-3ba772e6016f"
   },
   "outputs": [
    {
     "data": {
      "image/png": "[encoded data removed]",
      "text/plain": [
       "<Figure size 640x480 with 1 Axes>"
      ]
     },
     "metadata": {},
     "output_type": "display_data"
    }
   ],
   "source": [
    "# Access one instance from the train_dataset\n",
    "image, label = train_dataset[\n",
    "    10\n",
    "]  # Replace 0 with any index to view a different instance\n",
    "\n",
    "# Convert the image tensor to a NumPy array for visualization\n",
    "image = np.transpose(\n",
    "    image.numpy(), (1, 2, 0)\n",
    ")  # Rearrange dimensions from (C, H, W) to (H, W, C)\n",
    "\n",
    "# CIFAR-10 class names\n",
    "classes = (\n",
    "    \"airplane\",\n",
    "    \"automobile\",\n",
    "    \"bird\",\n",
    "    \"cat\",\n",
    "    \"deer\",\n",
    "    \"dog\",\n",
    "    \"frog\",\n",
    "    \"horse\",\n",
    "    \"ship\",\n",
    "    \"truck\",\n",
    ")\n",
    "\n",
    "# Display the image with its label\n",
    "plt.imshow(image)\n",
    "plt.title(f\"Label: {classes[label]}\")  # Map the label to its class name\n",
    "plt.axis(\"off\")\n",
    "plt.show()"
   ]
  },
  {
   "cell_type": "code",
   "execution_count": 5,
   "metadata": {
    "colab": {
     "base_uri": "https://localhost:8080/"
    },
    "id": "oMBLrneX4axc",
    "outputId": "e40d9cc5-dc3f-4062-caa4-8d81802ff8e4"
   },
   "outputs": [
    {
     "name": "stdout",
     "output_type": "stream",
     "text": [
      "Train images tensor shape: torch.Size([50000, 3, 32, 32])\n",
      "Train labels tensor shape: torch.Size([50000])\n",
      "Test images tensor shape: torch.Size([10000, 3, 32, 32])\n",
      "Test labels tensor shape: torch.Size([10000])\n",
      "Train images NumPy shape: (10, 3, 32, 32)\n",
      "Train labels NumPy shape: (10,)\n",
      "Test images NumPy shape: (10000, 3, 32, 32)\n",
      "Test labels NumPy shape: (10000,)\n"
     ]
    },
    {
     "data": {
      "text/plain": [
       "0"
      ]
     },
     "execution_count": 5,
     "metadata": {},
     "output_type": "execute_result"
    }
   ],
   "source": [
    "# Convert train and test datasets to tensors\n",
    "train_images_tensor = torch.stack(\n",
    "    [train_dataset[i][0] for i in range(len(train_dataset))]\n",
    ")\n",
    "train_labels_tensor = torch.tensor(\n",
    "    [train_dataset[i][1] for i in range(len(train_dataset))]\n",
    ")\n",
    "\n",
    "test_images_tensor = torch.stack([test_dataset[i][0] for i in range(len(test_dataset))])\n",
    "test_labels_tensor = torch.tensor(\n",
    "    [test_dataset[i][1] for i in range(len(test_dataset))]\n",
    ")\n",
    "\n",
    "print(f\"Train images tensor shape: {train_images_tensor.shape}\")\n",
    "print(f\"Train labels tensor shape: {train_labels_tensor.shape}\")\n",
    "print(f\"Test images tensor shape: {test_images_tensor.shape}\")\n",
    "print(f\"Test labels tensor shape: {test_labels_tensor.shape}\")\n",
    "\n",
    "# Convert tensors to NumPy arrays\n",
    "train_images_numpy = train_images_tensor.numpy()\n",
    "train_labels_numpy = train_labels_tensor.numpy()\n",
    "\n",
    "test_images_numpy = test_images_tensor.numpy()\n",
    "test_labels_numpy = test_labels_tensor.numpy()\n",
    "\n",
    "train_images_numpy = train_images_numpy[:10]\n",
    "train_labels_numpy = train_labels_numpy[:10]\n",
    "\n",
    "print(f\"Train images NumPy shape: {train_images_numpy.shape}\")\n",
    "print(f\"Train labels NumPy shape: {train_labels_numpy.shape}\")\n",
    "print(f\"Test images NumPy shape: {test_images_numpy.shape}\")\n",
    "print(f\"Test labels NumPy shape: {test_labels_numpy.shape}\")\n",
    "\n",
    "\n",
    "# Clear tensors from memory\n",
    "del train_images_tensor\n",
    "del train_labels_tensor\n",
    "del test_images_tensor\n",
    "del test_labels_tensor\n",
    "\n",
    "# Force garbage collection to free up memory\n",
    "gc.collect()"
   ]
  },
  {
   "cell_type": "code",
   "execution_count": 6,
   "metadata": {},
   "outputs": [],
   "source": [
    "in_channel = 3\n",
    "out_channel = 32\n",
    "kernel_size = 5\n",
    "stride = 1\n",
    "padding = 1\n",
    "\n",
    "model = LeNet5()\n",
    "logit = model.forward(train_images_numpy)\n",
    "\n",
    "predictions = np.argmax(logit)"
   ]
  },
  {
   "cell_type": "code",
   "execution_count": 7,
   "metadata": {},
   "outputs": [
    {
     "name": "stdout",
     "output_type": "stream",
     "text": [
      "276.3102111592854\n"
     ]
    }
   ],
   "source": [
    "Y = one_hot_y(train_labels_numpy, 10)\n",
    "loss = cross_entropy_loss(logit, Y)\n",
    "print(loss)"
   ]
  },
  {
   "cell_type": "code",
   "execution_count": 8,
   "metadata": {},
   "outputs": [
    {
     "name": "stdout",
     "output_type": "stream",
     "text": [
      "(10, 10)\n",
      "(10, 10)\n"
     ]
    }
   ],
   "source": [
    "print(Y.shape)\n",
    "print(logit.shape)"
   ]
  },
  {
   "cell_type": "code",
   "execution_count": 9,
   "metadata": {},
   "outputs": [],
   "source": [
    "gradient = logit - Y"
   ]
  },
  {
   "cell_type": "code",
   "execution_count": 10,
   "metadata": {},
   "outputs": [
    {
     "data": {
      "text/plain": [
       "array([[ 3.20319724e+00,  5.40404671e+00,  4.12637010e+00, ...,\n",
       "         5.38749692e+00,  1.69490579e+00,  2.48848484e+00],\n",
       "       [ 4.00552449e+00,  1.95843218e+00,  1.84642043e+00, ...,\n",
       "         2.16051821e+00, -3.68366159e-01, -1.63045667e-01],\n",
       "       [ 4.00552449e+00,  1.95843218e+00,  1.84642043e+00, ...,\n",
       "         2.16051821e+00, -3.68366159e-01, -1.63045667e-01],\n",
       "       ...,\n",
       "       [ 3.03744321e+00,  3.60092468e+00,  3.01634148e+00, ...,\n",
       "         2.26137898e+00,  2.15579824e+00,  2.36278409e+00],\n",
       "       [ 0.00000000e+00,  0.00000000e+00,  0.00000000e+00, ...,\n",
       "         0.00000000e+00,  0.00000000e+00,  0.00000000e+00],\n",
       "       [ 1.88063640e+00,  2.84498472e+00,  7.67912836e-01, ...,\n",
       "         2.28233311e+00, -1.68512138e-01,  2.76900037e-03]])"
      ]
     },
     "execution_count": 10,
     "metadata": {},
     "output_type": "execute_result"
    }
   ],
   "source": [
    "model.backward(gradient)"
   ]
  }
 ],
 "metadata": {
  "colab": {
   "provenance": []
  },
  "kernelspec": {
   "display_name": "Python 3",
   "language": "python",
   "name": "python3"
  },
  "language_info": {
   "codemirror_mode": {
    "name": "ipython",
    "version": 3
   },
   "file_extension": ".py",
   "mimetype": "text/x-python",
   "name": "python",
   "nbconvert_exporter": "python",
   "pygments_lexer": "ipython3",
   "version": "3.12.8"
  }
 },
 "nbformat": 4,
 "nbformat_minor": 0
}
