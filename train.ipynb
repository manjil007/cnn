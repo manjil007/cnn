{
 "cells": [
  {
   "cell_type": "code",
   "execution_count": null,
   "metadata": {
    "id": "uIgxqm09zYQl"
   },
   "outputs": [],
   "source": [
    "# See through the cifar-10 dataset and display some image\n",
    "import numpy as np\n",
    "import pandas as pd\n",
    "import matplotlib.pyplot as plt\n",
    "\n",
    "import torch\n",
    "import torch.nn as nn\n",
    "import torch.nn.functional as F\n",
    "from torchvision import datasets\n",
    "import torchvision.transforms as transforms\n",
    "import torchvision\n",
    "\n",
    "import gc\n",
    "\n",
    "import os\n",
    "import sys\n",
    "from CNN import LeNet5\n",
    "from utils import cross_entropy_loss, one_hot_y"
   ]
  },
  {
   "cell_type": "code",
   "execution_count": 12,
   "metadata": {
    "colab": {
     "base_uri": "https://localhost:8080/"
    },
    "id": "sztraQJO0zw4",
    "outputId": "c0346aed-4292-4052-cd24-931b6a7077fb"
   },
   "outputs": [],
   "source": [
    "# Download CIFAR-10 dataset\n",
    "transform = transforms.Compose([transforms.ToTensor()])\n",
    "train_dataset = torchvision.datasets.CIFAR10(root='data', train=True, download=False, transform=transform)\n",
    "test_dataset = torchvision.datasets.CIFAR10(root='data', train=False, download=False, transform=transform)"
   ]
  },
  {
   "cell_type": "code",
   "execution_count": 13,
   "metadata": {
    "colab": {
     "base_uri": "https://localhost:8080/"
    },
    "id": "oXTUjFp71zn8",
    "outputId": "88af5e5d-4438-4ac8-8469-c86de9a5ded9"
   },
   "outputs": [
    {
     "data": {
      "text/plain": [
       "(50000, 10000)"
      ]
     },
     "execution_count": 13,
     "metadata": {},
     "output_type": "execute_result"
    }
   ],
   "source": [
    "len(train_dataset) , len(test_dataset) # 50000 train and 10000 test data"
   ]
  },
  {
   "cell_type": "code",
   "execution_count": 14,
   "metadata": {
    "colab": {
     "base_uri": "https://localhost:8080/",
     "height": 428
    },
    "id": "c8rBdja819nP",
    "outputId": "dba8983c-3271-4e86-c66b-3ba772e6016f"
   },
   "outputs": [
    {
     "data": {
      "image/png": "[encoded data removed]",
      "text/plain": [
       "<Figure size 640x480 with 1 Axes>"
      ]
     },
     "metadata": {},
     "output_type": "display_data"
    }
   ],
   "source": [
    "# Access one instance from the train_dataset\n",
    "image, label = train_dataset[10]  # Replace 0 with any index to view a different instance\n",
    "\n",
    "# Convert the image tensor to a NumPy array for visualization\n",
    "image = np.transpose(image.numpy(), (1, 2, 0))  # Rearrange dimensions from (C, H, W) to (H, W, C)\n",
    "\n",
    "# CIFAR-10 class names\n",
    "classes = ('airplane', 'automobile', 'bird', 'cat',\n",
    "           'deer', 'dog', 'frog', 'horse', 'ship', 'truck')\n",
    "\n",
    "# Display the image with its label\n",
    "plt.imshow(image)\n",
    "plt.title(f\"Label: {classes[label]}\")  # Map the label to its class name\n",
    "plt.axis('off')\n",
    "plt.show()"
   ]
  },
  {
   "cell_type": "code",
   "execution_count": null,
   "metadata": {
    "colab": {
     "base_uri": "https://localhost:8080/"
    },
    "id": "oMBLrneX4axc",
    "outputId": "e40d9cc5-dc3f-4062-caa4-8d81802ff8e4"
   },
   "outputs": [
    {
     "name": "stdout",
     "output_type": "stream",
     "text": [
      "Train images tensor shape: torch.Size([50000, 3, 32, 32])\n",
      "Train labels tensor shape: torch.Size([50000])\n",
      "Test images tensor shape: torch.Size([10000, 3, 32, 32])\n",
      "Test labels tensor shape: torch.Size([10000])\n",
      "Train images NumPy shape: (10, 3, 32, 32)\n",
      "Train labels NumPy shape: (10,)\n",
      "Test images NumPy shape: (10000, 3, 32, 32)\n",
      "Test labels NumPy shape: (10000,)\n"
     ]
    },
    {
     "data": {
      "text/plain": [
       "737"
      ]
     },
     "execution_count": 15,
     "metadata": {},
     "output_type": "execute_result"
    }
   ],
   "source": [
    "# Convert train and test datasets to tensors\n",
    "train_images_tensor = torch.stack([train_dataset[i][0] for i in range(len(train_dataset))])\n",
    "train_labels_tensor = torch.tensor([train_dataset[i][1] for i in range(len(train_dataset))])\n",
    "\n",
    "test_images_tensor = torch.stack([test_dataset[i][0] for i in range(len(test_dataset))])\n",
    "test_labels_tensor = torch.tensor([test_dataset[i][1] for i in range(len(test_dataset))])\n",
    "\n",
    "print(f\"Train images tensor shape: {train_images_tensor.shape}\")\n",
    "print(f\"Train labels tensor shape: {train_labels_tensor.shape}\")\n",
    "print(f\"Test images tensor shape: {test_images_tensor.shape}\")\n",
    "print(f\"Test labels tensor shape: {test_labels_tensor.shape}\")\n",
    "\n",
    "# Convert tensors to NumPy arrays\n",
    "train_images_numpy = train_images_tensor.numpy()\n",
    "train_labels_numpy = train_labels_tensor.numpy()\n",
    "\n",
    "test_images_numpy = test_images_tensor.numpy()\n",
    "test_labels_numpy = test_labels_tensor.numpy()\n",
    "\n",
    "print(f\"Train images NumPy shape: {train_images_numpy.shape}\")\n",
    "print(f\"Train labels NumPy shape: {train_labels_numpy.shape}\")\n",
    "print(f\"Test images NumPy shape: {test_images_numpy.shape}\")\n",
    "print(f\"Test labels NumPy shape: {test_labels_numpy.shape}\")\n",
    "\n",
    "\n",
    "# Clear tensors from memory\n",
    "del train_images_tensor\n",
    "del train_labels_tensor\n",
    "del test_images_tensor\n",
    "del test_labels_tensor\n",
    "\n",
    "# Force garbage collection to free up memory\n",
    "gc.collect()"
   ]
  },
  {
   "cell_type": "code",
   "execution_count": 16,
   "metadata": {},
   "outputs": [],
   "source": [
    "in_channel = 3\n",
    "out_channel = 32\n",
    "kernel_size = 5\n",
    "stride = 1\n",
    "padding = 1\n",
    "\n",
    "model = LeNet5()\n",
    "logit = model.forward(train_images_numpy)\n",
    "\n",
    "predictions = np.argmax(logit)\n"
   ]
  },
  {
   "cell_type": "code",
   "execution_count": 17,
   "metadata": {},
   "outputs": [],
   "source": [
    "Y = one_hot_y(train_labels_numpy, 10)\n",
    "loss = cross_entropy_loss(logit, Y)"
   ]
  },
  {
   "cell_type": "code",
   "execution_count": 18,
   "metadata": {},
   "outputs": [],
   "source": [
    "gradient = logit - Y"
   ]
  },
  {
   "cell_type": "code",
   "execution_count": 19,
   "metadata": {},
   "outputs": [
    {
     "ename": "ValueError",
     "evalue": "matmul: Input operand 1 has a mismatch in its core dimension 0, with gufunc signature (n?,k),(k,m?)->(n?,m?) (size 10 is different from 84)",
     "output_type": "error",
     "traceback": [
      "\u001b[1;31m---------------------------------------------------------------------------\u001b[0m",
      "\u001b[1;31mValueError\u001b[0m                                Traceback (most recent call last)",
      "Cell \u001b[1;32mIn[19], line 1\u001b[0m\n\u001b[1;32m----> 1\u001b[0m \u001b[43mmodel\u001b[49m\u001b[38;5;241;43m.\u001b[39;49m\u001b[43mbackward\u001b[49m\u001b[43m(\u001b[49m\u001b[43mgradient\u001b[49m\u001b[43m)\u001b[49m\n",
      "File \u001b[1;32mc:\\Users\\pradh\\OneDrive - University of New Mexico\\Desktop\\Fall 2024\\CS 591-Neural Network\\Projects\\cnn\\LeNet.py:49\u001b[0m, in \u001b[0;36mLeNet5.backward\u001b[1;34m(self, gradient)\u001b[0m\n\u001b[0;32m     47\u001b[0m \u001b[38;5;28;01mdef\u001b[39;00m \u001b[38;5;21mbackward\u001b[39m(\u001b[38;5;28mself\u001b[39m, gradient):\n\u001b[0;32m     48\u001b[0m     dz \u001b[38;5;241m=\u001b[39m \u001b[38;5;28mself\u001b[39m\u001b[38;5;241m.\u001b[39mfc2\u001b[38;5;241m.\u001b[39mbackward(gradient, \u001b[38;5;28mself\u001b[39m\u001b[38;5;241m.\u001b[39mrelu1)\n\u001b[1;32m---> 49\u001b[0m     dz \u001b[38;5;241m=\u001b[39m \u001b[38;5;28;43mself\u001b[39;49m\u001b[38;5;241;43m.\u001b[39;49m\u001b[43mfc2\u001b[49m\u001b[38;5;241;43m.\u001b[39;49m\u001b[43mbackward\u001b[49m\u001b[43m(\u001b[49m\u001b[43mdz\u001b[49m\u001b[43m,\u001b[49m\u001b[43m \u001b[49m\u001b[38;5;28;43mself\u001b[39;49m\u001b[38;5;241;43m.\u001b[39;49m\u001b[43mrelu1\u001b[49m\u001b[43m)\u001b[49m\n\u001b[0;32m     51\u001b[0m     \u001b[38;5;28;01mreturn\u001b[39;00m dz\n",
      "File \u001b[1;32mc:\\Users\\pradh\\OneDrive - University of New Mexico\\Desktop\\Fall 2024\\CS 591-Neural Network\\Projects\\cnn\\linear.py:47\u001b[0m, in \u001b[0;36mTwoLayerNetwork.backward\u001b[1;34m(self, dz, act_der)\u001b[0m\n\u001b[0;32m     45\u001b[0m \u001b[38;5;28mself\u001b[39m\u001b[38;5;241m.\u001b[39mdw2 \u001b[38;5;241m=\u001b[39m dz\u001b[38;5;241m.\u001b[39mT \u001b[38;5;241m@\u001b[39m \u001b[38;5;28mself\u001b[39m\u001b[38;5;241m.\u001b[39mA1\n\u001b[0;32m     46\u001b[0m \u001b[38;5;28mself\u001b[39m\u001b[38;5;241m.\u001b[39mdb2 \u001b[38;5;241m=\u001b[39m np\u001b[38;5;241m.\u001b[39msum(dz, axis\u001b[38;5;241m=\u001b[39m\u001b[38;5;241m0\u001b[39m)\n\u001b[1;32m---> 47\u001b[0m dx2 \u001b[38;5;241m=\u001b[39m \u001b[43mdz\u001b[49m\u001b[43m \u001b[49m\u001b[38;5;241;43m@\u001b[39;49m\u001b[43m \u001b[49m\u001b[38;5;28;43mself\u001b[39;49m\u001b[38;5;241;43m.\u001b[39;49m\u001b[43mW2\u001b[49m\u001b[38;5;241;43m.\u001b[39;49m\u001b[43mT\u001b[49m\n\u001b[0;32m     50\u001b[0m \u001b[38;5;66;03m# Activation layer backpropagation,\u001b[39;00m\n\u001b[0;32m     51\u001b[0m \u001b[38;5;66;03m# Activation layer derivation with respect to what was passed during forward propagation which is Z1\u001b[39;00m\n\u001b[0;32m     52\u001b[0m dz1 \u001b[38;5;241m=\u001b[39m dx2 \u001b[38;5;241m*\u001b[39m act_der\u001b[38;5;241m.\u001b[39mbackward(\u001b[38;5;28mself\u001b[39m\u001b[38;5;241m.\u001b[39mZ1)\n",
      "\u001b[1;31mValueError\u001b[0m: matmul: Input operand 1 has a mismatch in its core dimension 0, with gufunc signature (n?,k),(k,m?)->(n?,m?) (size 10 is different from 84)"
     ]
    }
   ],
   "source": [
    "model.backward(gradient)"
   ]
  }
 ],
 "metadata": {
  "colab": {
   "provenance": []
  },
  "kernelspec": {
   "display_name": "datamining_assignment1",
   "language": "python",
   "name": "python3"
  },
  "language_info": {
   "codemirror_mode": {
    "name": "ipython",
    "version": 3
   },
   "file_extension": ".py",
   "mimetype": "text/x-python",
   "name": "python",
   "nbconvert_exporter": "python",
   "pygments_lexer": "ipython3",
   "version": "3.11.9"
  }
 },
 "nbformat": 4,
 "nbformat_minor": 0
}
